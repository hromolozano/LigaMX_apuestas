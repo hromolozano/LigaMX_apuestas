{
 "cells": [
  {
   "cell_type": "code",
   "execution_count": 4,
   "metadata": {},
   "outputs": [],
   "source": [
    "import requests\n",
    "import pandas as pd\n",
    "from bs4 import BeautifulSoup\n",
    "\n",
    "url = \"https://www.mediotiempo.com/futbol/liga-mx/tabla-general\"\n",
    "\n",
    "response = requests.get(url)\n",
    "\n",
    "response.encoding = 'utf-8'\n",
    "\n",
    "html = response.text\n",
    "\n",
    "soup = BeautifulSoup(html,'html.parser')\n",
    "\n",
    "# print(soup.prettify())\n",
    "\n",
    "# soup.title\n",
    "# soup.title.name\n",
    "# soup.title.string\n",
    "# soup.p\n",
    "# soup.find_all('tr')\n",
    "table_html = soup.find('div', {'class': 'ctr-stadistics-header__body'})\n"
   ]
  },
  {
   "cell_type": "code",
   "execution_count": 44,
   "metadata": {},
   "outputs": [],
   "source": [
    "#Creates the dataframe with column names\n",
    "tr = table_html.find('tr')\n",
    "th = tr.find_all('th')\n",
    "list_columns = []\n",
    "for element in th:\n",
    "    list_columns.append(element.string)\n",
    "\n",
    "list_columns\n",
    "\n",
    "df = pd.DataFrame(columns=list_columns)\n",
    "\n",
    "\n"
   ]
  },
  {
   "cell_type": "code",
   "execution_count": 83,
   "metadata": {},
   "outputs": [],
   "source": [
    "td = table_html.find_all('td')\n",
    "list = []\n",
    "for element in td:\n",
    "    list.append(element.string)"
   ]
  },
  {
   "cell_type": "code",
   "execution_count": 121,
   "metadata": {},
   "outputs": [
    {
     "data": {
      "text/html": [
       "<div>\n",
       "<style scoped>\n",
       "    .dataframe tbody tr th:only-of-type {\n",
       "        vertical-align: middle;\n",
       "    }\n",
       "\n",
       "    .dataframe tbody tr th {\n",
       "        vertical-align: top;\n",
       "    }\n",
       "\n",
       "    .dataframe thead th {\n",
       "        text-align: right;\n",
       "    }\n",
       "</style>\n",
       "<table border=\"1\" class=\"dataframe\">\n",
       "  <thead>\n",
       "    <tr style=\"text-align: right;\">\n",
       "      <th></th>\n",
       "      <th>0</th>\n",
       "    </tr>\n",
       "  </thead>\n",
       "  <tbody>\n",
       "    <tr>\n",
       "      <th>0</th>\n",
       "      <td>\\n01\\n\\n\\nAmérica\\n\\n\\n17\\n12\\n2\\n3\\n38\\n17\\n2...</td>\n",
       "    </tr>\n",
       "    <tr>\n",
       "      <th>1</th>\n",
       "      <td>\\n02\\n\\n\\nMonterrey\\n\\n\\n17\\n10\\n5\\n2\\n29\\n13\\...</td>\n",
       "    </tr>\n",
       "    <tr>\n",
       "      <th>2</th>\n",
       "      <td>\\n03\\n\\n\\nSantos\\n\\n\\n17\\n10\\n3\\n4\\n38\\n21\\n17...</td>\n",
       "    </tr>\n",
       "    <tr>\n",
       "      <th>3</th>\n",
       "      <td>\\n04\\n\\n\\nPachuca\\n\\n\\n17\\n9\\n5\\n3\\n28\\n15\\n13...</td>\n",
       "    </tr>\n",
       "    <tr>\n",
       "      <th>4</th>\n",
       "      <td>\\n05\\n\\n\\nTigres\\n\\n\\n17\\n9\\n3\\n5\\n24\\n14\\n10\\...</td>\n",
       "    </tr>\n",
       "    <tr>\n",
       "      <th>5</th>\n",
       "      <td>\\n06\\n\\n\\nToluca\\n\\n\\n17\\n7\\n6\\n4\\n27\\n23\\n4\\n...</td>\n",
       "    </tr>\n",
       "    <tr>\n",
       "      <th>6</th>\n",
       "      <td>\\n07\\n\\n\\nCruz Azul\\n\\n\\n17\\n7\\n3\\n7\\n26\\n34\\n...</td>\n",
       "    </tr>\n",
       "    <tr>\n",
       "      <th>7</th>\n",
       "      <td>\\n08\\n\\n\\nPuebla\\n\\n\\n17\\n4\\n10\\n3\\n25\\n23\\n2\\...</td>\n",
       "    </tr>\n",
       "    <tr>\n",
       "      <th>8</th>\n",
       "      <td>\\n09\\n\\n\\nChivas\\n\\n\\n17\\n5\\n7\\n5\\n19\\n17\\n2\\n...</td>\n",
       "    </tr>\n",
       "    <tr>\n",
       "      <th>9</th>\n",
       "      <td>\\n10\\n\\n\\nLeón\\n\\n\\n17\\n6\\n4\\n7\\n25\\n29\\n-4\\n22\\n</td>\n",
       "    </tr>\n",
       "    <tr>\n",
       "      <th>10</th>\n",
       "      <td>\\n11\\n\\n\\nFC Juárez\\n\\n\\n17\\n4\\n7\\n6\\n17\\n18\\n...</td>\n",
       "    </tr>\n",
       "    <tr>\n",
       "      <th>11</th>\n",
       "      <td>\\n12\\n\\n\\nNecaxa\\n\\n\\n17\\n5\\n4\\n8\\n19\\n26\\n-7\\...</td>\n",
       "    </tr>\n",
       "    <tr>\n",
       "      <th>12</th>\n",
       "      <td>\\n13\\n\\n\\nAtlético de San Luis\\n\\n\\n17\\n4\\n6\\n...</td>\n",
       "    </tr>\n",
       "    <tr>\n",
       "      <th>13</th>\n",
       "      <td>\\n14\\n\\n\\nMazatlán\\n\\n\\n17\\n3\\n8\\n6\\n17\\n24\\n-...</td>\n",
       "    </tr>\n",
       "    <tr>\n",
       "      <th>14</th>\n",
       "      <td>\\n15\\n\\n\\nClub Tijuana\\n\\n\\n17\\n4\\n5\\n8\\n18\\n3...</td>\n",
       "    </tr>\n",
       "    <tr>\n",
       "      <th>15</th>\n",
       "      <td>\\n16\\n\\n\\nPumas\\n\\n\\n17\\n2\\n8\\n7\\n21\\n31\\n-10\\...</td>\n",
       "    </tr>\n",
       "    <tr>\n",
       "      <th>16</th>\n",
       "      <td>\\n17\\n\\n\\nAtlas\\n\\n\\n17\\n3\\n4\\n10\\n16\\n27\\n-11...</td>\n",
       "    </tr>\n",
       "    <tr>\n",
       "      <th>17</th>\n",
       "      <td>\\n18\\n\\n\\nClub Querétaro\\n\\n\\n17\\n1\\n6\\n10\\n18...</td>\n",
       "    </tr>\n",
       "  </tbody>\n",
       "</table>\n",
       "</div>"
      ],
      "text/plain": [
       "                                                    0\n",
       "0   \\n01\\n\\n\\nAmérica\\n\\n\\n17\\n12\\n2\\n3\\n38\\n17\\n2...\n",
       "1   \\n02\\n\\n\\nMonterrey\\n\\n\\n17\\n10\\n5\\n2\\n29\\n13\\...\n",
       "2   \\n03\\n\\n\\nSantos\\n\\n\\n17\\n10\\n3\\n4\\n38\\n21\\n17...\n",
       "3   \\n04\\n\\n\\nPachuca\\n\\n\\n17\\n9\\n5\\n3\\n28\\n15\\n13...\n",
       "4   \\n05\\n\\n\\nTigres\\n\\n\\n17\\n9\\n3\\n5\\n24\\n14\\n10\\...\n",
       "5   \\n06\\n\\n\\nToluca\\n\\n\\n17\\n7\\n6\\n4\\n27\\n23\\n4\\n...\n",
       "6   \\n07\\n\\n\\nCruz Azul\\n\\n\\n17\\n7\\n3\\n7\\n26\\n34\\n...\n",
       "7   \\n08\\n\\n\\nPuebla\\n\\n\\n17\\n4\\n10\\n3\\n25\\n23\\n2\\...\n",
       "8   \\n09\\n\\n\\nChivas\\n\\n\\n17\\n5\\n7\\n5\\n19\\n17\\n2\\n...\n",
       "9   \\n10\\n\\n\\nLeón\\n\\n\\n17\\n6\\n4\\n7\\n25\\n29\\n-4\\n22\\n\n",
       "10  \\n11\\n\\n\\nFC Juárez\\n\\n\\n17\\n4\\n7\\n6\\n17\\n18\\n...\n",
       "11  \\n12\\n\\n\\nNecaxa\\n\\n\\n17\\n5\\n4\\n8\\n19\\n26\\n-7\\...\n",
       "12  \\n13\\n\\n\\nAtlético de San Luis\\n\\n\\n17\\n4\\n6\\n...\n",
       "13  \\n14\\n\\n\\nMazatlán\\n\\n\\n17\\n3\\n8\\n6\\n17\\n24\\n-...\n",
       "14  \\n15\\n\\n\\nClub Tijuana\\n\\n\\n17\\n4\\n5\\n8\\n18\\n3...\n",
       "15  \\n16\\n\\n\\nPumas\\n\\n\\n17\\n2\\n8\\n7\\n21\\n31\\n-10\\...\n",
       "16  \\n17\\n\\n\\nAtlas\\n\\n\\n17\\n3\\n4\\n10\\n16\\n27\\n-11...\n",
       "17  \\n18\\n\\n\\nClub Querétaro\\n\\n\\n17\\n1\\n6\\n10\\n18..."
      ]
     },
     "execution_count": 121,
     "metadata": {},
     "output_type": "execute_result"
    }
   ],
   "source": [
    "all_data = soup.find_all('tr', {'class': 'ctr-stadistics-header__tr'})\n",
    "list = []\n",
    "for i in range(1,len(all_data)):\n",
    "    list.append(all_data[i].text)\n",
    "\n",
    "df = pd.DataFrame(list)\n",
    "df"
   ]
  },
  {
   "cell_type": "code",
   "execution_count": 119,
   "metadata": {},
   "outputs": [
    {
     "ename": "AttributeError",
     "evalue": "'list' object has no attribute 'str'",
     "output_type": "error",
     "traceback": [
      "\u001b[0;31m---------------------------------------------------------------------------\u001b[0m",
      "\u001b[0;31mAttributeError\u001b[0m                            Traceback (most recent call last)",
      "Cell \u001b[0;32mIn[119], line 2\u001b[0m\n\u001b[1;32m      1\u001b[0m list_transformed \u001b[39m=\u001b[39m [x\u001b[39m.\u001b[39msplit(\u001b[39m'\u001b[39m\u001b[39mAmerica\u001b[39m\u001b[39m'\u001b[39m) \u001b[39mfor\u001b[39;00m x \u001b[39min\u001b[39;00m \u001b[39mlist\u001b[39m]\n\u001b[0;32m----> 2\u001b[0m list_transformed_2 \u001b[39m=\u001b[39m [x\u001b[39m.\u001b[39mstr\u001b[39m.\u001b[39msplit(\u001b[39m'\u001b[39m\u001b[39m\"\u001b[39m\u001b[39m\\\"\u001b[39;00m\u001b[39m'\u001b[39m) \u001b[39mfor\u001b[39;00m x \u001b[39min\u001b[39;00m list_transformed]\n",
      "Cell \u001b[0;32mIn[119], line 2\u001b[0m, in \u001b[0;36m<listcomp>\u001b[0;34m(.0)\u001b[0m\n\u001b[1;32m      1\u001b[0m list_transformed \u001b[39m=\u001b[39m [x\u001b[39m.\u001b[39msplit(\u001b[39m'\u001b[39m\u001b[39mAmerica\u001b[39m\u001b[39m'\u001b[39m) \u001b[39mfor\u001b[39;00m x \u001b[39min\u001b[39;00m \u001b[39mlist\u001b[39m]\n\u001b[0;32m----> 2\u001b[0m list_transformed_2 \u001b[39m=\u001b[39m [x\u001b[39m.\u001b[39;49mstr\u001b[39m.\u001b[39msplit(\u001b[39m'\u001b[39m\u001b[39m\"\u001b[39m\u001b[39m\\\"\u001b[39;00m\u001b[39m'\u001b[39m) \u001b[39mfor\u001b[39;00m x \u001b[39min\u001b[39;00m list_transformed]\n",
      "\u001b[0;31mAttributeError\u001b[0m: 'list' object has no attribute 'str'"
     ]
    }
   ],
   "source": [
    "list_transformed = [x.split('America') for x in list]\n",
    "list_transformed_2 = [x.str.split('\"\\\"') for x in list_transformed]"
   ]
  },
  {
   "cell_type": "code",
   "execution_count": null,
   "metadata": {},
   "outputs": [],
   "source": []
  }
 ],
 "metadata": {
  "kernelspec": {
   "display_name": "Python 3",
   "language": "python",
   "name": "python3"
  },
  "language_info": {
   "codemirror_mode": {
    "name": "ipython",
    "version": 3
   },
   "file_extension": ".py",
   "mimetype": "text/x-python",
   "name": "python",
   "nbconvert_exporter": "python",
   "pygments_lexer": "ipython3",
   "version": "3.8.10"
  },
  "orig_nbformat": 4,
  "vscode": {
   "interpreter": {
    "hash": "916dbcbb3f70747c44a77c7bcd40155683ae19c65e1c03b4aa3499c5328201f1"
   }
  }
 },
 "nbformat": 4,
 "nbformat_minor": 2
}
